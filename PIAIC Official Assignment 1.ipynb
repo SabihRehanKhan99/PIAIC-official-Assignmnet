{
 "cells": [
  {
   "cell_type": "code",
   "execution_count": 28,
   "metadata": {},
   "outputs": [
    {
     "name": "stdout",
     "output_type": "stream",
     "text": [
      "Enter the radius of the circle: 2\n",
      "Area of the circlr is  12.56\n"
     ]
    }
   ],
   "source": [
    "#1 Calculate area of a circle\n",
    "\n",
    "pi=3.14\n",
    "r=float(input(\"Enter the radius of the circle: \"))\n",
    "area=pi*r*r\n",
    "print(\"Area of the circlr is \" ,area)"
   ]
  },
  {
   "cell_type": "code",
   "execution_count": 29,
   "metadata": {},
   "outputs": [
    {
     "name": "stdout",
     "output_type": "stream",
     "text": [
      "Enter number: 2\n",
      "Number is positive\n"
     ]
    }
   ],
   "source": [
    "#2 Check number either positive,negative or zero\n",
    "\n",
    "n=int(input(\"Enter number: \"))\n",
    "\n",
    "if(n>0):\n",
    "   print(\"Number is positive\")\n",
    "elif(n<0):\n",
    "   print(\"Number is negative\")\n",
    "else:\n",
    "   print(\"Number is zero\")"
   ]
  },
  {
   "cell_type": "code",
   "execution_count": 51,
   "metadata": {},
   "outputs": [
    {
     "name": "stdout",
     "output_type": "stream",
     "text": [
      "Enter Numenator: 4\n",
      "Enter Denomenator: 2\n",
      "Number 4 is Completely divided by 2\n"
     ]
    }
   ],
   "source": [
    "#3 Divisibility Check of two numbers\n",
    "numenator = int(input(\"Enter Numenator: \"))\n",
    "denominator = int(input(\"Enter Denomenator: \"))\n",
    "if numenator%denominator==0:\n",
    "    print(\"Number\",numenator, \"is Completely divided by\",denominator)\n",
    "else:\n",
    "        print(\"Number\",numenator, \"is not Completely divided by\",denominator)"
   ]
  },
  {
   "cell_type": "code",
   "execution_count": 31,
   "metadata": {},
   "outputs": [
    {
     "name": "stdout",
     "output_type": "stream",
     "text": [
      "Start date: 2019-06-26\n",
      "End date: 2009-06-20\n",
      "Days between: -3658\n"
     ]
    }
   ],
   "source": [
    "#4 Days Calculator\n",
    "\n",
    "from datetime import date\n",
    "\n",
    "Start =  date(2019 , 6 , 26)\n",
    "end = date(2009 , 6 , 20)\n",
    "days = (end - Start).days\n",
    "\n",
    "print(f\"Start date: {Start}\")\n",
    "print(f\"End date: {end}\")\n",
    "\n",
    "print(f\"Days between: {days}\")"
   ]
  },
  {
   "cell_type": "code",
   "execution_count": 32,
   "metadata": {},
   "outputs": [
    {
     "name": "stdout",
     "output_type": "stream",
     "text": [
      "Enter Radius of Sphere: 3\n",
      "Volume of the Sphere with Radius 3 is 113.11 .\n"
     ]
    }
   ],
   "source": [
    "#5 Calculate volume if a sphere\n",
    "\n",
    "π = 3.142\n",
    "radius_sphere = int(input(\"Enter Radius of Sphere: \"))\n",
    "\n",
    "volume_of_Sphere = 4/3 * π * radius_sphere**3\n",
    "\n",
    "print(\"Volume of the Sphere with Radius \" + str(radius_sphere) + \" is \" + \"%.2f\" % volume_of_Sphere + \" .\")"
   ]
  },
  {
   "cell_type": "code",
   "execution_count": 53,
   "metadata": {},
   "outputs": [
    {
     "name": "stdout",
     "output_type": "stream",
     "text": [
      "Enter String: good morning\n",
      "How many copies of String you need: 5\n",
      "good morninggood morninggood morninggood morninggood morning\n"
     ]
    }
   ],
   "source": [
    "#6 Copy String n times\n",
    "a = str(input(\"Enter String: \"))\n",
    "result = \" \"\n",
    "b = int(input(\"How many copies of String you need: \"))\n",
    "print(b*a)"
   ]
  },
  {
   "cell_type": "code",
   "execution_count": 34,
   "metadata": {},
   "outputs": [
    {
     "name": "stdout",
     "output_type": "stream",
     "text": [
      "Enter n : 4\n",
      "4 is even number\n"
     ]
    }
   ],
   "source": [
    "#7 Check if number is Even or Odd\n",
    "\n",
    "n=int(input(\"Enter n : \"))\n",
    "if (n%2==0):\n",
    "   print (n,\"is even number\")\n",
    "else:\n",
    "   print(n,\"is odd number\")"
   ]
  },
  {
   "cell_type": "code",
   "execution_count": 54,
   "metadata": {},
   "outputs": [
    {
     "name": "stdout",
     "output_type": "stream",
     "text": [
      "Enter A CharacterA\n",
      "A  is Vowel\n"
     ]
    }
   ],
   "source": [
    "#8 Vowel Tester\n",
    "\n",
    "vowels = ['A','E','I','O','U','a','e','i','o','u']\n",
    "\n",
    "userInput = input(\"Enter A Character\")\n",
    "\n",
    "if userInput in vowels:\n",
    "    print(userInput, \" is Vowel\")\n",
    "else:\n",
    "    print(userInput,\" is not Vowel\")\n"
   ]
  },
  {
   "cell_type": "code",
   "execution_count": 37,
   "metadata": {},
   "outputs": [
    {
     "name": "stdout",
     "output_type": "stream",
     "text": [
      "Enter any number:5\n",
      "Enter any number:2\n",
      "Enter any number:3\n",
      "The are of Triangle is  0.0\n"
     ]
    }
   ],
   "source": [
    "#9 Triangle area\n",
    "\n",
    "a=int(input(\"Enter any number:\"))\n",
    "b=int(input(\"Enter any number:\"))\n",
    "c=int(input(\"Enter any number:\"))\n",
    "\n",
    "s=(a+b+c)/2\n",
    "area=(s*(s-a)*(s-b)*(s-c) ** 0.5)\n",
    "print(\"The are of Triangle is \",area)"
   ]
  },
  {
   "cell_type": "code",
   "execution_count": 1,
   "metadata": {},
   "outputs": [
    {
     "name": "stdout",
     "output_type": "stream",
     "text": [
      "Enter the principle amount: 10000\n",
      "Enter the time(years): 2\n",
      "Enter the rate: 3\n",
      "The simple interest is:  600.0\n"
     ]
    }
   ],
   "source": [
    "#10 Calculate Interest\n",
    "\n",
    "principle = float(input(\"Enter the principle amount: \"))\n",
    "time = int(input(\"Enter the time(years): \"))\n",
    "rate = float(input(\"Enter the rate: \"))\n",
    "simple_Interest = (principle*time*rate)/100\n",
    "print(\"The simple interest is: \" ,simple_Interest)"
   ]
  },
  {
   "cell_type": "code",
   "execution_count": 55,
   "metadata": {},
   "outputs": [
    {
     "name": "stdout",
     "output_type": "stream",
     "text": [
      "Enter Co-Ordinate For x1 :2\n",
      "Enter Co-Ordinate For x2 :3\n",
      "Enter Co-Ordinate For y1 :4\n",
      "Enter Co-Ordinate For y2 :5\n",
      "2.8284271247461903\n"
     ]
    }
   ],
   "source": [
    "#11 Euclidean distcance\n",
    "import math\n",
    "\n",
    "x1 = int(input(\"Enter Co-Ordinate For x1 :\"))\n",
    "x2 = int(input(\"Enter Co-Ordinate For x2 :\"))\n",
    "y1 = int(input(\"Enter Co-Ordinate For y1 :\"))\n",
    "y2 = int(input(\"Enter Co-Ordinate For y2 :\"))\n",
    "\n",
    "distance = math.sqrt( ((x1-y1)**2)+((x2-y2)**2) )\n",
    "\n",
    "print(distance)"
   ]
  },
  {
   "cell_type": "code",
   "execution_count": 4,
   "metadata": {},
   "outputs": [
    {
     "name": "stdout",
     "output_type": "stream",
     "text": [
      "Feet(3) => Centimeters(91.44)\n"
     ]
    }
   ],
   "source": [
    "#12 Feet to Centimeter Converter\n",
    "\n",
    "feet = 3\n",
    "\n",
    "cm = feet * 30.48\n",
    "\n",
    "print (f\"Feet({feet}) => Centimeters({round(cm, 3)})\")"
   ]
  },
  {
   "cell_type": "code",
   "execution_count": 6,
   "metadata": {},
   "outputs": [
    {
     "name": "stdout",
     "output_type": "stream",
     "text": [
      "Enter your Height in m 1.72\n",
      "Enter your Weight in kg 65\n",
      "Your Body Mass Index is : 21.971335857220122\n"
     ]
    }
   ],
   "source": [
    "#13 BMI Calculator\n",
    "\n",
    "x = float(input(\"Enter your Height in m \"))\n",
    "y = float(input(\"Enter your Weight in kg \"))\n",
    "\n",
    "z = y / x **2\n",
    "\n",
    "print (\"Your Body Mass Index is :\",z)"
   ]
  },
  {
   "cell_type": "code",
   "execution_count": 8,
   "metadata": {},
   "outputs": [
    {
     "name": "stdout",
     "output_type": "stream",
     "text": [
      "Enter number: 5\n",
      "15.0\n"
     ]
    }
   ],
   "source": [
    "#14 Sum of n postive Integers\n",
    "\n",
    "n = int (input(\"Enter number: \"))\n",
    "\n",
    "sum = (n* ( n + 1 )) /2\n",
    "print(sum)"
   ]
  },
  {
   "cell_type": "code",
   "execution_count": 57,
   "metadata": {},
   "outputs": [
    {
     "name": "stdout",
     "output_type": "stream",
     "text": [
      "Enter a Number53\n",
      "5 + 3\n",
      "Sum Of  5 + 3  is  8\n"
     ]
    }
   ],
   "source": [
    "#15 Digit sum of a Number\n",
    "\n",
    "number =int(input(\"Enter a Number\"))\n",
    "\n",
    "sumnum = str(number)\n",
    "\n",
    "lst = list(sumnum)\n",
    "\n",
    "\n",
    "totalDigits = ' + '.join(sumnum)\n",
    "\n",
    "print(totalDigits)\n",
    "\n",
    "total = 0\n",
    "while number>0:\n",
    "    digit = number%10\n",
    "    total = total+digit\n",
    "    number = number//10\n",
    "print(\"Sum Of \", totalDigits, \" is \", total)"
   ]
  },
  {
   "cell_type": "code",
   "execution_count": 59,
   "metadata": {},
   "outputs": [
    {
     "name": "stdout",
     "output_type": "stream",
     "text": [
      "Enter a decimal number 24\n",
      "Binary Representation of  24  is  11 "
     ]
    }
   ],
   "source": [
    "#16 Decimal To Binary Converter\n",
    "\n",
    "decimalNumber = int(input(\"Enter a decimal number \"))\n",
    "finalDecimalNumber = decimalNumber\n",
    "\n",
    "# to store binary numbers in list\n",
    "array=[]\n",
    "\n",
    "while(decimalNumber>0):\n",
    "    digit=decimalNumber%2\n",
    "    array.append(digit)\n",
    "    decimalNumber=decimalNumber//2\n",
    "    \n",
    "    # Converting integer list to string list\n",
    "    s = [str(i) for i in array] \n",
    "      \n",
    "    # Join list items using join() \n",
    "    res = int(\"\".join(s))     \n",
    "array.reverse()\n",
    "\n",
    "print(\"Binary Representation of \", finalDecimalNumber,\" is \",res,end=\" \")\n"
   ]
  },
  {
   "cell_type": "code",
   "execution_count": 60,
   "metadata": {},
   "outputs": [
    {
     "name": "stdout",
     "output_type": "stream",
     "text": [
      "Enter a Binary number 11\n",
      "Decimal Representation of  11  is  3\n"
     ]
    }
   ],
   "source": [
    "#17 Binary To Decimal Converter\n",
    "\n",
    "binaryNumber = input(\"Enter a Binary number \")\n",
    "binaryNumberList = list(binaryNumber)\n",
    "defaultValue = 0\n",
    "actualNumber = str(binaryNumber)\n",
    "\n",
    "\n",
    "\n",
    "for d in range(len(binaryNumberList)):\n",
    "    numbers = binaryNumberList.pop()\n",
    "    if numbers == '1':\n",
    "        defaultValue = defaultValue + pow(2, d)\n",
    "print(\"Decimal Representation of \", actualNumber,\" is \" ,defaultValue)\n"
   ]
  },
  {
   "cell_type": "code",
   "execution_count": 14,
   "metadata": {},
   "outputs": [
    {
     "name": "stdout",
     "output_type": "stream",
     "text": [
      "How are you doing : i am doing great\n",
      "Total Number of vowels in this string =  6\n",
      "Total Number of consonants in this string =  1\n"
     ]
    }
   ],
   "source": [
    "#18 Vowel and Consonants counter\n",
    "\n",
    "str1 = input(\"How are you doing : \")\n",
    "vowels = 0\n",
    "consonants = 0\n",
    "str1.lower()\n",
    "\n",
    "for i in str1:\n",
    "    if(i =='a' or i == 'e' or i == 'i' or i == 'o' or i == 'u'):\n",
    "        vowels = vowels + 1\n",
    "else:\n",
    "           consonants = consonants + 1\n",
    "\n",
    "print(\"Total Number of vowels in this string = \", vowels)\n",
    "print(\"Total Number of consonants in this string = \", consonants)"
   ]
  },
  {
   "cell_type": "code",
   "execution_count": 63,
   "metadata": {},
   "outputs": [
    {
     "name": "stdout",
     "output_type": "stream",
     "text": [
      "Enter Text :-1\n",
      "Text  -1  is not Palindrome\n"
     ]
    }
   ],
   "source": [
    "#19 Palindrome tester \n",
    "\n",
    "userInput = input(\"Enter Text :\")\n",
    "palindrome = userInput[::-1]\n",
    "if userInput == palindrome:\n",
    "    print(\"Text \" , userInput,\" is Palindrome\")\n",
    "else:\n",
    "    print(\"Text \" , userInput,\" is not Palindrome\")"
   ]
  },
  {
   "cell_type": "code",
   "execution_count": 19,
   "metadata": {},
   "outputs": [
    {
     "name": "stdout",
     "output_type": "stream",
     "text": [
      "Please Enter your Own String : how are you\n",
      "\n",
      "Total Number of Alphabets in this String :   9\n",
      "Total Number of Digits in this String :   0\n",
      "Total Number of Special Characters in this String :   2\n"
     ]
    }
   ],
   "source": [
    "#20 Count Alphabets, Numbers and Special Characters\n",
    "\n",
    "string = input(\"Please Enter your Own String : \")\n",
    "alphabets = digits = special = 0\n",
    "\n",
    "for i in range(len(string)):\n",
    "    if(string[i].isalpha()):\n",
    "        alphabets = alphabets + 1\n",
    "    elif(string[i].isdigit()):\n",
    "        digits = digits + 1\n",
    "    else:\n",
    "        special = special + 1\n",
    "\n",
    "print(\"\\nTotal Number of Alphabets in this String :  \", alphabets)\n",
    "print(\"Total Number of Digits in this String :  \", digits)\n",
    "print(\"Total Number of Special Characters in this String :  \", special)"
   ]
  },
  {
   "cell_type": "code",
   "execution_count": 22,
   "metadata": {},
   "outputs": [
    {
     "name": "stdout",
     "output_type": "stream",
     "text": [
      "\n",
      "* \n",
      "* * \n",
      "* * * \n",
      "* * * * \n",
      "* * * * * \n",
      "* * * * \n",
      "* * * \n",
      "* * \n",
      "* \n"
     ]
    }
   ],
   "source": [
    "#21 Pattern\n",
    "\n",
    "# *\n",
    "# **\n",
    "# ***\n",
    "# ****\n",
    "# *****\n",
    "# ****\n",
    "# ***\n",
    "# **\n",
    "# *\n",
    "\n",
    "\n",
    "# CODE\n",
    "\n",
    "n=5;\n",
    "for i in range(n):\n",
    "    for j in range(i):\n",
    "        print ('* ', end=\"\")\n",
    "    print('')\n",
    "\n",
    "for i in range(n,0,-1):\n",
    "    for j in range(i):\n",
    "        print('* ', end=\"\")\n",
    "    print('')"
   ]
  },
  {
   "cell_type": "code",
   "execution_count": 50,
   "metadata": {},
   "outputs": [
    {
     "name": "stdout",
     "output_type": "stream",
     "text": [
      "\n",
      "1\n",
      "12\n",
      "123\n",
      "1234\n",
      "12345\n",
      "1234\n",
      "123\n",
      "12\n",
      "1\n"
     ]
    }
   ],
   "source": [
    "#22  Pattern 2 \n",
    "\n",
    "number=5\n",
    "random = 1\n",
    "for i in range(number):\n",
    "    for j in range(i):\n",
    "        print (j+1, end=\"\")\n",
    "    \n",
    "    print('')\n",
    "\n",
    "for i in range(5,0,-1):\n",
    "    for j in range(i):\n",
    "        print(j+1, end=\"\")\n",
    "    print('')\n"
   ]
  },
  {
   "cell_type": "code",
   "execution_count": 27,
   "metadata": {},
   "outputs": [
    {
     "name": "stdout",
     "output_type": "stream",
     "text": [
      "\n",
      "1\n",
      "22\n",
      "333\n",
      "4444\n",
      "55555\n",
      "666666\n",
      "7777777\n",
      "88888888\n",
      "999999999\n"
     ]
    }
   ],
   "source": [
    "#23 Pattern\n",
    "\n",
    "# 1\n",
    "# 22\n",
    "# 333\n",
    "# 4444\n",
    "# 55555\n",
    "# 666666\n",
    "# 7777777\n",
    "# 88888888\n",
    "# 999999999\n",
    "\n",
    "# CODE\n",
    "\n",
    "for i in range(10):\n",
    "    print(str(i) * i)"
   ]
  },
  {
   "cell_type": "code",
   "execution_count": null,
   "metadata": {},
   "outputs": [],
   "source": []
  }
 ],
 "metadata": {
  "kernelspec": {
   "display_name": "Python 3",
   "language": "python",
   "name": "python3"
  },
  "language_info": {
   "codemirror_mode": {
    "name": "ipython",
    "version": 3
   },
   "file_extension": ".py",
   "mimetype": "text/x-python",
   "name": "python",
   "nbconvert_exporter": "python",
   "pygments_lexer": "ipython3",
   "version": "3.7.3"
  }
 },
 "nbformat": 4,
 "nbformat_minor": 2
}
