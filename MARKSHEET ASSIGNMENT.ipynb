{
 "cells": [
  {
   "cell_type": "code",
   "execution_count": 4,
   "metadata": {},
   "outputs": [
    {
     "name": "stdout",
     "output_type": "stream",
     "text": [
      "Enter the student name Sabih Rehan Khan\n",
      "Enter the class 10\n",
      "Enter the section A\n",
      "Enter the maths subject marks 80\n",
      "Enter the physics subject marks 80\n",
      "Enter the chemistry subject marks 80\n",
      "Enter the english subject marks 70\n",
      "Enter the urdu subject marks 60\n",
      "\n",
      "\n",
      "\n",
      "SCHOLARS SCHOOL SYSTEM\n",
      "----------------\n",
      "Annual Exams Results\n",
      "-------------------\n",
      "student name: Sabih Rehan Khan class: 10 Sec: A\n",
      "\n",
      "Maths     :   80\n",
      "Physics   :   80\n",
      "Chemistry :   80\n",
      "English   :   70\n",
      "Urdu      :   60\n",
      "\n",
      "Total     :   370 out of 500\n",
      "Average   :   74.0 %\n",
      "\n",
      "Result:  Pass\n"
     ]
    }
   ],
   "source": [
    "\n",
    "#MARKSHEET ASSIGNMENT\n",
    "\n",
    "\n",
    "student = str(input('Enter the student name '))\n",
    "clas = str(input('Enter the class '))\n",
    "sec = str(input('Enter the section '))\n",
    "maths = int(input('Enter the maths subject marks '))\n",
    "physics = int(input('Enter the physics subject marks '))\n",
    "chemistry = int(input('Enter the chemistry subject marks '))\n",
    "english = int(input('Enter the english subject marks '))\n",
    "urdu = int(input('Enter the urdu subject marks '))\n",
    "Total = maths + physics + chemistry + english + urdu\n",
    "average = (maths + physics + chemistry + english + urdu)/5.0\n",
    "print()\n",
    "print()\n",
    "print()\n",
    "print('SCHOLARS SCHOOL SYSTEM')\n",
    "print('----------------')\n",
    "print('Annual Exams Results')\n",
    "print('-------------------')\n",
    "print('student name:',student,'class:',clas,'Sec:',sec)\n",
    "print()\n",
    "print('Maths     :  ',maths)\n",
    "print('Physics   :  ',physics)\n",
    "print('Chemistry :  ',chemistry)\n",
    "print('English   :  ',english)\n",
    "print('Urdu      :  ',urdu)\n",
    "print()\n",
    "print('Total     :  ',Total,'out of 500')\n",
    "print(\"Average   :  \",average,'%')\n",
    "print()\n",
    "if (maths<33)or(physics<33)or(chemistry<33)or(english<33)or(urdu<33):\n",
    "    print(\"Result:   Fail\")\n",
    "else:\n",
    "    print ('Result:  Pass')"
   ]
  },
  {
   "cell_type": "code",
   "execution_count": null,
   "metadata": {},
   "outputs": [],
   "source": []
  }
 ],
 "metadata": {
  "kernelspec": {
   "display_name": "Python 3",
   "language": "python",
   "name": "python3"
  },
  "language_info": {
   "codemirror_mode": {
    "name": "ipython",
    "version": 3
   },
   "file_extension": ".py",
   "mimetype": "text/x-python",
   "name": "python",
   "nbconvert_exporter": "python",
   "pygments_lexer": "ipython3",
   "version": "3.7.3"
  }
 },
 "nbformat": 4,
 "nbformat_minor": 2
}
